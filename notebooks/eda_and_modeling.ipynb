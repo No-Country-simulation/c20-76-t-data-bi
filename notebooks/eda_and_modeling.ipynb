{
 "cells": [
  {
   "cell_type": "markdown",
   "metadata": {},
   "source": [
    "# Google Play Store Market Analysis"
   ]
  },
  {
   "cell_type": "code",
   "execution_count": 58,
   "metadata": {},
   "outputs": [],
   "source": [
    "import pandas as pd\n",
    "import numpy as np\n",
    "import matplotlib.pyplot as plt\n",
    "import seaborn as sns\n",
    "\n",
    "from statsmodels.tsa.seasonal import seasonal_decompose\n",
    "\n",
    "from sklearn.preprocessing import RobustScaler\n",
    "from sklearn.metrics import mean_squared_error,root_mean_squared_error, make_scorer\n",
    "from sklearn.model_selection import train_test_split, GridSearchCV\n",
    "from sklearn.multioutput import MultiOutputRegressor\n",
    "from sklearn.linear_model import LinearRegression\n",
    "from sklearn.svm import SVR\n",
    "from sklearn.tree import DecisionTreeRegressor\n",
    "from sklearn.ensemble import RandomForestRegressor\n",
    "from xgboost import XGBRegressor\n",
    "\n",
    "#guardar mnodelos\n",
    "import joblib\n"
   ]
  },
  {
   "cell_type": "code",
   "execution_count": 59,
   "metadata": {},
   "outputs": [
    {
     "data": {
      "text/html": [
       "<div>\n",
       "<style scoped>\n",
       "    .dataframe tbody tr th:only-of-type {\n",
       "        vertical-align: middle;\n",
       "    }\n",
       "\n",
       "    .dataframe tbody tr th {\n",
       "        vertical-align: top;\n",
       "    }\n",
       "\n",
       "    .dataframe thead th {\n",
       "        text-align: right;\n",
       "    }\n",
       "</style>\n",
       "<table border=\"1\" class=\"dataframe\">\n",
       "  <thead>\n",
       "    <tr style=\"text-align: right;\">\n",
       "      <th></th>\n",
       "      <th>App Name</th>\n",
       "      <th>App Id</th>\n",
       "      <th>Category</th>\n",
       "      <th>Rating</th>\n",
       "      <th>Rating Count</th>\n",
       "      <th>Installs</th>\n",
       "      <th>Minimum Installs</th>\n",
       "      <th>Maximum Installs</th>\n",
       "      <th>Free</th>\n",
       "      <th>Price</th>\n",
       "      <th>...</th>\n",
       "      <th>Developer Website</th>\n",
       "      <th>Developer Email</th>\n",
       "      <th>Released</th>\n",
       "      <th>Last Updated</th>\n",
       "      <th>Content Rating</th>\n",
       "      <th>Privacy Policy</th>\n",
       "      <th>Ad Supported</th>\n",
       "      <th>In App Purchases</th>\n",
       "      <th>Editors Choice</th>\n",
       "      <th>Scraped Time</th>\n",
       "    </tr>\n",
       "  </thead>\n",
       "  <tbody>\n",
       "    <tr>\n",
       "      <th>0</th>\n",
       "      <td>Gakondo</td>\n",
       "      <td>com.ishakwe.gakondo</td>\n",
       "      <td>Adventure</td>\n",
       "      <td>0.0</td>\n",
       "      <td>0.0</td>\n",
       "      <td>10+</td>\n",
       "      <td>10.0</td>\n",
       "      <td>15</td>\n",
       "      <td>True</td>\n",
       "      <td>0.0</td>\n",
       "      <td>...</td>\n",
       "      <td>https://beniyizibyose.tk/#/</td>\n",
       "      <td>jean21101999@gmail.com</td>\n",
       "      <td>Feb 26, 2020</td>\n",
       "      <td>Feb 26, 2020</td>\n",
       "      <td>Everyone</td>\n",
       "      <td>https://beniyizibyose.tk/projects/</td>\n",
       "      <td>False</td>\n",
       "      <td>False</td>\n",
       "      <td>False</td>\n",
       "      <td>2021-06-15 20:19:35</td>\n",
       "    </tr>\n",
       "    <tr>\n",
       "      <th>1</th>\n",
       "      <td>Ampere Battery Info</td>\n",
       "      <td>com.webserveis.batteryinfo</td>\n",
       "      <td>Tools</td>\n",
       "      <td>4.4</td>\n",
       "      <td>64.0</td>\n",
       "      <td>5,000+</td>\n",
       "      <td>5000.0</td>\n",
       "      <td>7662</td>\n",
       "      <td>True</td>\n",
       "      <td>0.0</td>\n",
       "      <td>...</td>\n",
       "      <td>https://webserveis.netlify.app/</td>\n",
       "      <td>webserveis@gmail.com</td>\n",
       "      <td>May 21, 2020</td>\n",
       "      <td>May 06, 2021</td>\n",
       "      <td>Everyone</td>\n",
       "      <td>https://dev4phones.wordpress.com/licencia-de-uso/</td>\n",
       "      <td>True</td>\n",
       "      <td>False</td>\n",
       "      <td>False</td>\n",
       "      <td>2021-06-15 20:19:35</td>\n",
       "    </tr>\n",
       "    <tr>\n",
       "      <th>2</th>\n",
       "      <td>Vibook</td>\n",
       "      <td>com.doantiepvien.crm</td>\n",
       "      <td>Productivity</td>\n",
       "      <td>0.0</td>\n",
       "      <td>0.0</td>\n",
       "      <td>50+</td>\n",
       "      <td>50.0</td>\n",
       "      <td>58</td>\n",
       "      <td>True</td>\n",
       "      <td>0.0</td>\n",
       "      <td>...</td>\n",
       "      <td>NaN</td>\n",
       "      <td>vnacrewit@gmail.com</td>\n",
       "      <td>Aug 9, 2019</td>\n",
       "      <td>Aug 19, 2019</td>\n",
       "      <td>Everyone</td>\n",
       "      <td>https://www.vietnamairlines.com/vn/en/terms-an...</td>\n",
       "      <td>False</td>\n",
       "      <td>False</td>\n",
       "      <td>False</td>\n",
       "      <td>2021-06-15 20:19:35</td>\n",
       "    </tr>\n",
       "    <tr>\n",
       "      <th>3</th>\n",
       "      <td>Smart City Trichy Public Service Vehicles 17UC...</td>\n",
       "      <td>cst.stJoseph.ug17ucs548</td>\n",
       "      <td>Communication</td>\n",
       "      <td>5.0</td>\n",
       "      <td>5.0</td>\n",
       "      <td>10+</td>\n",
       "      <td>10.0</td>\n",
       "      <td>19</td>\n",
       "      <td>True</td>\n",
       "      <td>0.0</td>\n",
       "      <td>...</td>\n",
       "      <td>http://www.climatesmarttech.com/</td>\n",
       "      <td>climatesmarttech2@gmail.com</td>\n",
       "      <td>Sep 10, 2018</td>\n",
       "      <td>Oct 13, 2018</td>\n",
       "      <td>Everyone</td>\n",
       "      <td>NaN</td>\n",
       "      <td>True</td>\n",
       "      <td>False</td>\n",
       "      <td>False</td>\n",
       "      <td>2021-06-15 20:19:35</td>\n",
       "    </tr>\n",
       "    <tr>\n",
       "      <th>4</th>\n",
       "      <td>GROW.me</td>\n",
       "      <td>com.horodyski.grower</td>\n",
       "      <td>Tools</td>\n",
       "      <td>0.0</td>\n",
       "      <td>0.0</td>\n",
       "      <td>100+</td>\n",
       "      <td>100.0</td>\n",
       "      <td>478</td>\n",
       "      <td>True</td>\n",
       "      <td>0.0</td>\n",
       "      <td>...</td>\n",
       "      <td>http://www.horodyski.com.pl</td>\n",
       "      <td>rmilekhorodyski@gmail.com</td>\n",
       "      <td>Feb 21, 2020</td>\n",
       "      <td>Nov 12, 2018</td>\n",
       "      <td>Everyone</td>\n",
       "      <td>http://www.horodyski.com.pl</td>\n",
       "      <td>False</td>\n",
       "      <td>False</td>\n",
       "      <td>False</td>\n",
       "      <td>2021-06-15 20:19:35</td>\n",
       "    </tr>\n",
       "  </tbody>\n",
       "</table>\n",
       "<p>5 rows × 24 columns</p>\n",
       "</div>"
      ],
      "text/plain": [
       "                                            App Name  \\\n",
       "0                                            Gakondo   \n",
       "1                                Ampere Battery Info   \n",
       "2                                             Vibook   \n",
       "3  Smart City Trichy Public Service Vehicles 17UC...   \n",
       "4                                            GROW.me   \n",
       "\n",
       "                       App Id       Category  Rating  Rating Count Installs  \\\n",
       "0         com.ishakwe.gakondo      Adventure     0.0           0.0      10+   \n",
       "1  com.webserveis.batteryinfo          Tools     4.4          64.0   5,000+   \n",
       "2        com.doantiepvien.crm   Productivity     0.0           0.0      50+   \n",
       "3     cst.stJoseph.ug17ucs548  Communication     5.0           5.0      10+   \n",
       "4        com.horodyski.grower          Tools     0.0           0.0     100+   \n",
       "\n",
       "   Minimum Installs  Maximum Installs  Free  Price  ...  \\\n",
       "0              10.0                15  True    0.0  ...   \n",
       "1            5000.0              7662  True    0.0  ...   \n",
       "2              50.0                58  True    0.0  ...   \n",
       "3              10.0                19  True    0.0  ...   \n",
       "4             100.0               478  True    0.0  ...   \n",
       "\n",
       "                  Developer Website              Developer Email  \\\n",
       "0       https://beniyizibyose.tk/#/       jean21101999@gmail.com   \n",
       "1   https://webserveis.netlify.app/         webserveis@gmail.com   \n",
       "2                               NaN          vnacrewit@gmail.com   \n",
       "3  http://www.climatesmarttech.com/  climatesmarttech2@gmail.com   \n",
       "4       http://www.horodyski.com.pl    rmilekhorodyski@gmail.com   \n",
       "\n",
       "       Released  Last Updated Content Rating  \\\n",
       "0  Feb 26, 2020  Feb 26, 2020       Everyone   \n",
       "1  May 21, 2020  May 06, 2021       Everyone   \n",
       "2   Aug 9, 2019  Aug 19, 2019       Everyone   \n",
       "3  Sep 10, 2018  Oct 13, 2018       Everyone   \n",
       "4  Feb 21, 2020  Nov 12, 2018       Everyone   \n",
       "\n",
       "                                      Privacy Policy Ad Supported  \\\n",
       "0                 https://beniyizibyose.tk/projects/        False   \n",
       "1  https://dev4phones.wordpress.com/licencia-de-uso/         True   \n",
       "2  https://www.vietnamairlines.com/vn/en/terms-an...        False   \n",
       "3                                                NaN         True   \n",
       "4                        http://www.horodyski.com.pl        False   \n",
       "\n",
       "  In App Purchases Editors Choice         Scraped Time  \n",
       "0            False          False  2021-06-15 20:19:35  \n",
       "1            False          False  2021-06-15 20:19:35  \n",
       "2            False          False  2021-06-15 20:19:35  \n",
       "3            False          False  2021-06-15 20:19:35  \n",
       "4            False          False  2021-06-15 20:19:35  \n",
       "\n",
       "[5 rows x 24 columns]"
      ]
     },
     "execution_count": 59,
     "metadata": {},
     "output_type": "execute_result"
    }
   ],
   "source": [
    "df = pd.read_csv(r'Google-Playstore.csv')\n",
    "df.head()"
   ]
  },
  {
   "cell_type": "markdown",
   "metadata": {},
   "source": [
    "## EDA"
   ]
  },
  {
   "cell_type": "code",
   "execution_count": 60,
   "metadata": {},
   "outputs": [
    {
     "name": "stdout",
     "output_type": "stream",
     "text": [
      "<class 'pandas.core.frame.DataFrame'>\n",
      "RangeIndex: 2312944 entries, 0 to 2312943\n",
      "Data columns (total 24 columns):\n",
      " #   Column             Dtype  \n",
      "---  ------             -----  \n",
      " 0   App Name           object \n",
      " 1   App Id             object \n",
      " 2   Category           object \n",
      " 3   Rating             float64\n",
      " 4   Rating Count       float64\n",
      " 5   Installs           object \n",
      " 6   Minimum Installs   float64\n",
      " 7   Maximum Installs   int64  \n",
      " 8   Free               bool   \n",
      " 9   Price              float64\n",
      " 10  Currency           object \n",
      " 11  Size               object \n",
      " 12  Minimum Android    object \n",
      " 13  Developer Id       object \n",
      " 14  Developer Website  object \n",
      " 15  Developer Email    object \n",
      " 16  Released           object \n",
      " 17  Last Updated       object \n",
      " 18  Content Rating     object \n",
      " 19  Privacy Policy     object \n",
      " 20  Ad Supported       bool   \n",
      " 21  In App Purchases   bool   \n",
      " 22  Editors Choice     bool   \n",
      " 23  Scraped Time       object \n",
      "dtypes: bool(4), float64(4), int64(1), object(15)\n",
      "memory usage: 361.8+ MB\n"
     ]
    }
   ],
   "source": [
    "df.info()"
   ]
  },
  {
   "cell_type": "code",
   "execution_count": 61,
   "metadata": {},
   "outputs": [
    {
     "data": {
      "text/html": [
       "<div>\n",
       "<style scoped>\n",
       "    .dataframe tbody tr th:only-of-type {\n",
       "        vertical-align: middle;\n",
       "    }\n",
       "\n",
       "    .dataframe tbody tr th {\n",
       "        vertical-align: top;\n",
       "    }\n",
       "\n",
       "    .dataframe thead th {\n",
       "        text-align: right;\n",
       "    }\n",
       "</style>\n",
       "<table border=\"1\" class=\"dataframe\">\n",
       "  <thead>\n",
       "    <tr style=\"text-align: right;\">\n",
       "      <th></th>\n",
       "      <th>Rating</th>\n",
       "      <th>Rating Count</th>\n",
       "      <th>Minimum Installs</th>\n",
       "      <th>Maximum Installs</th>\n",
       "      <th>Price</th>\n",
       "    </tr>\n",
       "  </thead>\n",
       "  <tbody>\n",
       "    <tr>\n",
       "      <th>count</th>\n",
       "      <td>2.290061e+06</td>\n",
       "      <td>2.290061e+06</td>\n",
       "      <td>2.312837e+06</td>\n",
       "      <td>2.312944e+06</td>\n",
       "      <td>2.312944e+06</td>\n",
       "    </tr>\n",
       "    <tr>\n",
       "      <th>mean</th>\n",
       "      <td>2.203152e+00</td>\n",
       "      <td>2.864839e+03</td>\n",
       "      <td>1.834452e+05</td>\n",
       "      <td>3.202017e+05</td>\n",
       "      <td>1.034992e-01</td>\n",
       "    </tr>\n",
       "    <tr>\n",
       "      <th>std</th>\n",
       "      <td>2.106223e+00</td>\n",
       "      <td>2.121626e+05</td>\n",
       "      <td>1.513144e+07</td>\n",
       "      <td>2.355495e+07</td>\n",
       "      <td>2.633127e+00</td>\n",
       "    </tr>\n",
       "    <tr>\n",
       "      <th>min</th>\n",
       "      <td>0.000000e+00</td>\n",
       "      <td>0.000000e+00</td>\n",
       "      <td>0.000000e+00</td>\n",
       "      <td>0.000000e+00</td>\n",
       "      <td>0.000000e+00</td>\n",
       "    </tr>\n",
       "    <tr>\n",
       "      <th>25%</th>\n",
       "      <td>0.000000e+00</td>\n",
       "      <td>0.000000e+00</td>\n",
       "      <td>5.000000e+01</td>\n",
       "      <td>8.400000e+01</td>\n",
       "      <td>0.000000e+00</td>\n",
       "    </tr>\n",
       "    <tr>\n",
       "      <th>50%</th>\n",
       "      <td>2.900000e+00</td>\n",
       "      <td>6.000000e+00</td>\n",
       "      <td>5.000000e+02</td>\n",
       "      <td>6.950000e+02</td>\n",
       "      <td>0.000000e+00</td>\n",
       "    </tr>\n",
       "    <tr>\n",
       "      <th>75%</th>\n",
       "      <td>4.300000e+00</td>\n",
       "      <td>4.200000e+01</td>\n",
       "      <td>5.000000e+03</td>\n",
       "      <td>7.354000e+03</td>\n",
       "      <td>0.000000e+00</td>\n",
       "    </tr>\n",
       "    <tr>\n",
       "      <th>max</th>\n",
       "      <td>5.000000e+00</td>\n",
       "      <td>1.385576e+08</td>\n",
       "      <td>1.000000e+10</td>\n",
       "      <td>1.205763e+10</td>\n",
       "      <td>4.000000e+02</td>\n",
       "    </tr>\n",
       "  </tbody>\n",
       "</table>\n",
       "</div>"
      ],
      "text/plain": [
       "             Rating  Rating Count  Minimum Installs  Maximum Installs  \\\n",
       "count  2.290061e+06  2.290061e+06      2.312837e+06      2.312944e+06   \n",
       "mean   2.203152e+00  2.864839e+03      1.834452e+05      3.202017e+05   \n",
       "std    2.106223e+00  2.121626e+05      1.513144e+07      2.355495e+07   \n",
       "min    0.000000e+00  0.000000e+00      0.000000e+00      0.000000e+00   \n",
       "25%    0.000000e+00  0.000000e+00      5.000000e+01      8.400000e+01   \n",
       "50%    2.900000e+00  6.000000e+00      5.000000e+02      6.950000e+02   \n",
       "75%    4.300000e+00  4.200000e+01      5.000000e+03      7.354000e+03   \n",
       "max    5.000000e+00  1.385576e+08      1.000000e+10      1.205763e+10   \n",
       "\n",
       "              Price  \n",
       "count  2.312944e+06  \n",
       "mean   1.034992e-01  \n",
       "std    2.633127e+00  \n",
       "min    0.000000e+00  \n",
       "25%    0.000000e+00  \n",
       "50%    0.000000e+00  \n",
       "75%    0.000000e+00  \n",
       "max    4.000000e+02  "
      ]
     },
     "execution_count": 61,
     "metadata": {},
     "output_type": "execute_result"
    }
   ],
   "source": [
    "df.describe()"
   ]
  },
  {
   "cell_type": "code",
   "execution_count": 62,
   "metadata": {},
   "outputs": [
    {
     "data": {
      "text/plain": [
       "Index(['App Name', 'App Id', 'Category', 'Rating', 'Rating Count', 'Installs',\n",
       "       'Minimum Installs', 'Maximum Installs', 'Free', 'Price', 'Currency',\n",
       "       'Size', 'Minimum Android', 'Developer Id', 'Developer Website',\n",
       "       'Developer Email', 'Released', 'Last Updated', 'Content Rating',\n",
       "       'Privacy Policy', 'Ad Supported', 'In App Purchases', 'Editors Choice',\n",
       "       'Scraped Time'],\n",
       "      dtype='object')"
      ]
     },
     "execution_count": 62,
     "metadata": {},
     "output_type": "execute_result"
    }
   ],
   "source": [
    "df.columns"
   ]
  },
  {
   "cell_type": "markdown",
   "metadata": {},
   "source": [
    "### Duplicates"
   ]
  },
  {
   "cell_type": "code",
   "execution_count": 63,
   "metadata": {},
   "outputs": [
    {
     "data": {
      "text/plain": [
       "np.int64(0)"
      ]
     },
     "execution_count": 63,
     "metadata": {},
     "output_type": "execute_result"
    }
   ],
   "source": [
    "df.duplicated().sum()"
   ]
  },
  {
   "cell_type": "markdown",
   "metadata": {},
   "source": [
    "no tenemos duplicados"
   ]
  },
  {
   "cell_type": "markdown",
   "metadata": {},
   "source": [
    "### Missing Values"
   ]
  },
  {
   "cell_type": "code",
   "execution_count": 64,
   "metadata": {},
   "outputs": [
    {
     "data": {
      "text/plain": [
       "App Name                  5\n",
       "App Id                    0\n",
       "Category                  0\n",
       "Rating                22883\n",
       "Rating Count          22883\n",
       "Installs                107\n",
       "Minimum Installs        107\n",
       "Maximum Installs          0\n",
       "Free                      0\n",
       "Price                     0\n",
       "Currency                135\n",
       "Size                    196\n",
       "Minimum Android        6530\n",
       "Developer Id             33\n",
       "Developer Website    760835\n",
       "Developer Email          31\n",
       "Released              71053\n",
       "Last Updated              0\n",
       "Content Rating            0\n",
       "Privacy Policy       420953\n",
       "Ad Supported              0\n",
       "In App Purchases          0\n",
       "Editors Choice            0\n",
       "Scraped Time              0\n",
       "dtype: int64"
      ]
     },
     "execution_count": 64,
     "metadata": {},
     "output_type": "execute_result"
    }
   ],
   "source": [
    "df.isnull().sum()"
   ]
  },
  {
   "cell_type": "markdown",
   "metadata": {},
   "source": [
    "Tenemos valores ausentes en diferentes columnas vamos a decidir que hacemos con estos datos. Podriamos eliminar alguna columna que pensemos no sera util para nuestro analisis o buscar maneras de remplazar los datos de ser necesario"
   ]
  },
  {
   "cell_type": "code",
   "execution_count": 65,
   "metadata": {},
   "outputs": [
    {
     "name": "stderr",
     "output_type": "stream",
     "text": [
      "C:\\Users\\RYZEN\\AppData\\Local\\Temp\\ipykernel_8060\\2436389615.py:1: FutureWarning: DataFrame.applymap has been deprecated. Use DataFrame.map instead.\n",
      "  df[['Developer Website','Developer Email','Privacy Policy']] = df[['Developer Website','Developer Email','Privacy Policy']].applymap(\n"
     ]
    }
   ],
   "source": [
    "# Combertimos estas columnas en booleanas ya que la informacion que proporcionan como tal no nos sirven. \n",
    "df[['Developer Website','Developer Email','Privacy Policy']] = df[['Developer Website','Developer Email','Privacy Policy']].applymap(\n",
    "    lambda x: False if pd.isna(x) else True)\n"
   ]
  },
  {
   "cell_type": "code",
   "execution_count": 66,
   "metadata": {},
   "outputs": [
    {
     "data": {
      "text/plain": [
       "App Name                 5\n",
       "App Id                   0\n",
       "Category                 0\n",
       "Rating               22883\n",
       "Rating Count         22883\n",
       "Installs               107\n",
       "Minimum Installs       107\n",
       "Maximum Installs         0\n",
       "Free                     0\n",
       "Price                    0\n",
       "Currency               135\n",
       "Size                   196\n",
       "Minimum Android       6530\n",
       "Developer Id            33\n",
       "Developer Website        0\n",
       "Developer Email          0\n",
       "Released             71053\n",
       "Last Updated             0\n",
       "Content Rating           0\n",
       "Privacy Policy           0\n",
       "Ad Supported             0\n",
       "In App Purchases         0\n",
       "Editors Choice           0\n",
       "Scraped Time             0\n",
       "dtype: int64"
      ]
     },
     "execution_count": 66,
     "metadata": {},
     "output_type": "execute_result"
    }
   ],
   "source": [
    "df.isna().sum()"
   ]
  },
  {
   "cell_type": "code",
   "execution_count": 67,
   "metadata": {},
   "outputs": [
    {
     "data": {
      "text/plain": [
       "2312944"
      ]
     },
     "execution_count": 67,
     "metadata": {},
     "output_type": "execute_result"
    }
   ],
   "source": [
    "# Eliminando columnas que no necesitemos\n",
    "df.drop(['App Id', 'Scraped Time','Maximum Installs'],inplace=True,axis=1)\n",
    "len(df)"
   ]
  },
  {
   "cell_type": "code",
   "execution_count": 68,
   "metadata": {},
   "outputs": [
    {
     "data": {
      "text/plain": [
       "2235275"
      ]
     },
     "execution_count": 68,
     "metadata": {},
     "output_type": "execute_result"
    }
   ],
   "source": [
    "# Eliminamos los valores nulos restantes\n",
    "df.dropna(inplace=True)\n",
    "len(df)"
   ]
  },
  {
   "cell_type": "markdown",
   "metadata": {},
   "source": [
    "Podemos observar que despues de eliminar todos los valores ausentes nos hemos quedado con gran parte del dataset original"
   ]
  },
  {
   "cell_type": "code",
   "execution_count": 69,
   "metadata": {},
   "outputs": [
    {
     "data": {
      "text/plain": [
       "count                          2235275\n",
       "mean     2018-08-29 01:28:05.096821760\n",
       "min                2010-01-28 00:00:00\n",
       "25%                2017-07-01 00:00:00\n",
       "50%                2019-03-19 00:00:00\n",
       "75%                2020-04-15 00:00:00\n",
       "max                2021-06-16 00:00:00\n",
       "Name: Released, dtype: object"
      ]
     },
     "execution_count": 69,
     "metadata": {},
     "output_type": "execute_result"
    }
   ],
   "source": [
    "# Convirtiendo la columna con fechas en formato datetime\n",
    "df.Released = pd.to_datetime(df['Released'])\n",
    "df['Last Updated'] = pd.to_datetime(df['Last Updated'])\n",
    "df['Released'].describe()"
   ]
  },
  {
   "cell_type": "markdown",
   "metadata": {},
   "source": [
    "Tenemos informacion desde el ano 2010 hasta el 2021. Para nuestro analisis nos vamos a enfocar en los ultimos 5 anos. Quiere decir de los anos 2016 al 2021."
   ]
  },
  {
   "cell_type": "code",
   "execution_count": 70,
   "metadata": {},
   "outputs": [
    {
     "data": {
      "text/plain": [
       "1794432"
      ]
     },
     "execution_count": 70,
     "metadata": {},
     "output_type": "execute_result"
    }
   ],
   "source": [
    "# vemos la cantidad de datos con los que nos vamos a quedar\n",
    "len(df[df['Released'].dt.year > 2016 ])"
   ]
  },
  {
   "cell_type": "code",
   "execution_count": 71,
   "metadata": {},
   "outputs": [],
   "source": [
    "# Guardamos nuestro dataset con los ultimos 5 anos \n",
    "df = df[df['Released'].dt.year > 2016 ]"
   ]
  },
  {
   "cell_type": "markdown",
   "metadata": {},
   "source": [
    "## Valores Unicos"
   ]
  },
  {
   "cell_type": "code",
   "execution_count": 72,
   "metadata": {},
   "outputs": [
    {
     "data": {
      "text/plain": [
       "Index(['App Name', 'Category', 'Rating', 'Rating Count', 'Installs',\n",
       "       'Minimum Installs', 'Free', 'Price', 'Currency', 'Size',\n",
       "       'Minimum Android', 'Developer Id', 'Developer Website',\n",
       "       'Developer Email', 'Released', 'Last Updated', 'Content Rating',\n",
       "       'Privacy Policy', 'Ad Supported', 'In App Purchases', 'Editors Choice'],\n",
       "      dtype='object')"
      ]
     },
     "execution_count": 72,
     "metadata": {},
     "output_type": "execute_result"
    }
   ],
   "source": [
    "df.columns"
   ]
  },
  {
   "cell_type": "code",
   "execution_count": 73,
   "metadata": {},
   "outputs": [
    {
     "name": "stdout",
     "output_type": "stream",
     "text": [
      "<class 'pandas.core.frame.DataFrame'>\n",
      "Index: 1794432 entries, 0 to 2312943\n",
      "Data columns (total 21 columns):\n",
      " #   Column             Dtype         \n",
      "---  ------             -----         \n",
      " 0   App Name           object        \n",
      " 1   Category           object        \n",
      " 2   Rating             float64       \n",
      " 3   Rating Count       float64       \n",
      " 4   Installs           object        \n",
      " 5   Minimum Installs   float64       \n",
      " 6   Free               bool          \n",
      " 7   Price              float64       \n",
      " 8   Currency           object        \n",
      " 9   Size               object        \n",
      " 10  Minimum Android    object        \n",
      " 11  Developer Id       object        \n",
      " 12  Developer Website  bool          \n",
      " 13  Developer Email    bool          \n",
      " 14  Released           datetime64[ns]\n",
      " 15  Last Updated       datetime64[ns]\n",
      " 16  Content Rating     object        \n",
      " 17  Privacy Policy     bool          \n",
      " 18  Ad Supported       bool          \n",
      " 19  In App Purchases   bool          \n",
      " 20  Editors Choice     bool          \n",
      "dtypes: bool(7), datetime64[ns](2), float64(4), object(8)\n",
      "memory usage: 217.3+ MB\n"
     ]
    }
   ],
   "source": [
    "df.info()"
   ]
  },
  {
   "cell_type": "markdown",
   "metadata": {},
   "source": [
    "### `category`"
   ]
  },
  {
   "cell_type": "code",
   "execution_count": 74,
   "metadata": {},
   "outputs": [
    {
     "name": "stdout",
     "output_type": "stream",
     "text": [
      "\n",
      "Numero de Categorias : 48\n",
      "Conteo por Categorias: Category\n",
      "Education                  192676\n",
      "Music & Audio              130172\n",
      "Entertainment              114655\n",
      "Business                   110621\n",
      "Tools                      107475\n",
      "Books & Reference           87820\n",
      "Lifestyle                   84551\n",
      "Personalization             69218\n",
      "Health & Fitness            66381\n",
      "Food & Drink                65499\n",
      "Shopping                    62358\n",
      "Productivity                58377\n",
      "Travel & Local              46702\n",
      "Finance                     46541\n",
      "Arcade                      42053\n",
      "Casual                      38719\n",
      "Communication               38039\n",
      "Puzzle                      37582\n",
      "Social                      36600\n",
      "Sports                      33114\n",
      "News & Magazines            28129\n",
      "Photography                 27746\n",
      "Medical                     22428\n",
      "Action                      21514\n",
      "Adventure                   18885\n",
      "Simulation                  17962\n",
      "Maps & Navigation           17773\n",
      "Art & Design                17535\n",
      "Auto & Vehicles             15486\n",
      "Educational                 15466\n",
      "House & Home                12602\n",
      "Events                      11824\n",
      "Beauty                      11034\n",
      "Video Players & Editors     10139\n",
      "Trivia                       9585\n",
      "Board                        7830\n",
      "Role Playing                 7565\n",
      "Racing                       7398\n",
      "Word                         6538\n",
      "Strategy                     6115\n",
      "Dating                       6001\n",
      "Card                         5202\n",
      "Weather                      4687\n",
      "Libraries & Demo             3637\n",
      "Music                        3562\n",
      "Casino                       3264\n",
      "Parenting                    3127\n",
      "Comics                       2245\n",
      "Name: count, dtype: int64\n",
      "\n"
     ]
    }
   ],
   "source": [
    "print(f'''\n",
    "Numero de Categorias : {len(df.Category.value_counts())}\n",
    "Conteo por Categorias: {df.Category.value_counts()}\n",
    "''')"
   ]
  },
  {
   "cell_type": "markdown",
   "metadata": {},
   "source": [
    "Tenemos en total 48 diferentes tipos de categorias entre todas nuestras applicaciones. "
   ]
  },
  {
   "cell_type": "code",
   "execution_count": 75,
   "metadata": {},
   "outputs": [
    {
     "data": {
      "text/plain": [
       "<Axes: xlabel='Category', ylabel='count'>"
      ]
     },
     "execution_count": 75,
     "metadata": {},
     "output_type": "execute_result"
    },
    {
     "data": {
      "image/png": "[encoded data removed]",
      "text/plain": [
       "<Figure size 640x480 with 1 Axes>"
      ]
     },
     "metadata": {},
     "output_type": "display_data"
    }
   ],
   "source": [
    "sns.barplot(df.Category.value_counts(ascending=False).head())"
   ]
  },
  {
   "cell_type": "markdown",
   "metadata": {},
   "source": [
    "Aqui podemos observar las 5 categorias con mayor cantidad de apps en la play store. "
   ]
  },
  {
   "cell_type": "markdown",
   "metadata": {},
   "source": [
    "### `Rating`"
   ]
  },
  {
   "cell_type": "code",
   "execution_count": 76,
   "metadata": {},
   "outputs": [
    {
     "name": "stdout",
     "output_type": "stream",
     "text": [
      "\n",
      "Numero de Categorias : 42\n",
      "Conteo por Categorias: Rating\n",
      "0.0    931604\n",
      "5.0     87056\n",
      "4.4     59119\n",
      "4.2     59100\n",
      "4.3     56337\n",
      "4.6     55726\n",
      "4.5     53040\n",
      "4.8     46987\n",
      "4.1     45497\n",
      "4.7     45154\n",
      "4.0     44515\n",
      "4.9     36291\n",
      "3.9     36012\n",
      "3.8     35231\n",
      "3.7     28307\n",
      "3.6     23748\n",
      "3.5     20686\n",
      "3.4     19426\n",
      "3.3     14902\n",
      "3.2     14371\n",
      "3.0     11831\n",
      "3.1     10280\n",
      "2.8      8249\n",
      "2.9      7616\n",
      "2.6      6428\n",
      "2.7      6218\n",
      "2.5      4681\n",
      "2.4      4060\n",
      "2.3      3745\n",
      "2.2      3388\n",
      "2.0      2646\n",
      "2.1      2504\n",
      "1.8      2141\n",
      "1.9      1767\n",
      "1.7      1379\n",
      "1.6      1180\n",
      "1.5       833\n",
      "1.4       733\n",
      "1.0       621\n",
      "1.3       436\n",
      "1.2       411\n",
      "1.1       176\n",
      "Name: count, dtype: int64\n",
      "\n"
     ]
    }
   ],
   "source": [
    "print(f'''\n",
    "Numero de Categorias : {len(df.Rating.value_counts())}\n",
    "Conteo por Categorias: {df.Rating.value_counts()}\n",
    "''')"
   ]
  },
  {
   "cell_type": "markdown",
   "metadata": {},
   "source": [
    "Vemos que raiting es una variable continua con 42 valores que se repiten a lo largo de todo nuestro dataset. Esta es la calificacion que los usuarios le dan a una applicacion"
   ]
  },
  {
   "cell_type": "markdown",
   "metadata": {},
   "source": [
    "### `Rating Count`"
   ]
  },
  {
   "cell_type": "code",
   "execution_count": 77,
   "metadata": {},
   "outputs": [
    {
     "name": "stdout",
     "output_type": "stream",
     "text": [
      "\n",
      "Numero de Categorias : 22481\n",
      "Conteo por Categorias: Rating Count\n",
      "0.0         931604\n",
      "5.0          52066\n",
      "6.0          43627\n",
      "7.0          37413\n",
      "8.0          32201\n",
      "             ...  \n",
      "622459.0         1\n",
      "121912.0         1\n",
      "45457.0          1\n",
      "477285.0         1\n",
      "216484.0         1\n",
      "Name: count, Length: 22481, dtype: int64\n",
      "\n"
     ]
    }
   ],
   "source": [
    "print(f'''\n",
    "Numero de Categorias : {len(df['Rating Count'].value_counts())}\n",
    "Conteo por Categorias: {df['Rating Count'].value_counts()}\n",
    "''')"
   ]
  },
  {
   "cell_type": "markdown",
   "metadata": {},
   "source": [
    "### `free`"
   ]
  },
  {
   "cell_type": "code",
   "execution_count": 78,
   "metadata": {},
   "outputs": [
    {
     "name": "stdout",
     "output_type": "stream",
     "text": [
      "\n",
      "Numero de Categorias : 2\n",
      "Conteo por Categorias: Free\n",
      "True     1773132\n",
      "False      21300\n",
      "Name: count, dtype: int64\n",
      "\n"
     ]
    }
   ],
   "source": [
    "print(f'''\n",
    "Numero de Categorias : {len(df.Free.value_counts())}\n",
    "Conteo por Categorias: {df.Free.value_counts()}\n",
    "''')"
   ]
  },
  {
   "cell_type": "code",
   "execution_count": 79,
   "metadata": {},
   "outputs": [
    {
     "data": {
      "text/plain": [
       "<Axes: xlabel='Free', ylabel='count'>"
      ]
     },
     "execution_count": 79,
     "metadata": {},
     "output_type": "execute_result"
    },
    {
     "data": {
      "image/png": "[encoded data removed]",
      "text/plain": [
       "<Figure size 640x480 with 1 Axes>"
      ]
     },
     "metadata": {},
     "output_type": "display_data"
    }
   ],
   "source": [
    "sns.barplot(df.Free.value_counts())"
   ]
  },
  {
   "cell_type": "markdown",
   "metadata": {},
   "source": [
    "Podemos ver que la mayoria de las applicaciones que se encuentran en la play store son gratis y tan solo un porcentaje minimo son de paga. "
   ]
  },
  {
   "cell_type": "markdown",
   "metadata": {},
   "source": [
    "### `Size`"
   ]
  },
  {
   "cell_type": "code",
   "execution_count": 80,
   "metadata": {},
   "outputs": [
    {
     "name": "stdout",
     "output_type": "stream",
     "text": [
      "\n",
      "Numero de Categorias : 1596\n",
      "Conteo por Categorias: Size\n",
      "11M     50214\n",
      "12M     43659\n",
      "13M     38359\n",
      "14M     35610\n",
      "16M     34446\n",
      "        ...  \n",
      "810M        1\n",
      "404M        1\n",
      "769M        1\n",
      "521M        1\n",
      "337M        1\n",
      "Name: count, Length: 1596, dtype: int64\n",
      "\n"
     ]
    }
   ],
   "source": [
    "print(f'''\n",
    "Numero de Categorias : {len(df.Size.value_counts())}\n",
    "Conteo por Categorias: {df.Size.value_counts()}\n",
    "''')"
   ]
  },
  {
   "cell_type": "markdown",
   "metadata": {},
   "source": [
    "Vemos que tenemos differentes tamanos de cada aplicacion. Necesitamos convertir esta columna en valores numericos que nos ayudara a realizar un mejor analisis a nuestros datos mas adelante. Ahora vamos a averiguar los differentes tamanos como kbytes mbytes, etc que podriamos tener aqui para saber como realizar la conversion. "
   ]
  },
  {
   "cell_type": "code",
   "execution_count": 81,
   "metadata": {},
   "outputs": [
    {
     "data": {
      "text/plain": [
       "array(['10M', '2.9M', '3.7M', ..., '405M', '3.2k', '512M'], dtype=object)"
      ]
     },
     "execution_count": 81,
     "metadata": {},
     "output_type": "execute_result"
    }
   ],
   "source": [
    "df.Size.unique()"
   ]
  },
  {
   "cell_type": "code",
   "execution_count": 82,
   "metadata": {},
   "outputs": [
    {
     "data": {
      "text/plain": [
       "Size type\n",
       "M    1749162\n",
       "e      32439\n",
       "k      12821\n",
       "G         10\n",
       "Name: count, dtype: int64"
      ]
     },
     "execution_count": 82,
     "metadata": {},
     "output_type": "execute_result"
    }
   ],
   "source": [
    "# decido crear un nuevo data frame y quedarme solamente con la ultima letra de los valores de esta columna para analizar que informacion tenemos\n",
    "df_c = df.copy()\n",
    "df_c['Size type'] = df_c['Size'].apply(lambda x: x[-1])\n",
    "df_c['Size type'].value_counts()"
   ]
  },
  {
   "cell_type": "markdown",
   "metadata": {},
   "source": [
    "vemos que tenemos Mbytes, Kbytes, Gbytes, y una variable que finaliza con e. Vamos a averiguar que nos dice esta variable"
   ]
  },
  {
   "cell_type": "code",
   "execution_count": 83,
   "metadata": {},
   "outputs": [
    {
     "data": {
      "text/plain": [
       "137        Varies with device\n",
       "140        Varies with device\n",
       "154        Varies with device\n",
       "180        Varies with device\n",
       "182        Varies with device\n",
       "                  ...        \n",
       "2312632    Varies with device\n",
       "2312651    Varies with device\n",
       "2312677    Varies with device\n",
       "2312738    Varies with device\n",
       "2312745    Varies with device\n",
       "Name: Size, Length: 32439, dtype: object"
      ]
     },
     "execution_count": 83,
     "metadata": {},
     "output_type": "execute_result"
    }
   ],
   "source": [
    "# Verificamos la informacion de los valores terminados en e\n",
    "df_c[df_c['Size type'] == 'e']['Size']"
   ]
  },
  {
   "cell_type": "markdown",
   "metadata": {},
   "source": [
    "Vemos que tenemos un valor de \"Varies with device\". Esta informacion no nos va a ayudar en la creacion de nuestros modelos. Por lo tanto decido eliminar las columnas con \"Varies with Device\""
   ]
  },
  {
   "cell_type": "code",
   "execution_count": 84,
   "metadata": {},
   "outputs": [
    {
     "data": {
      "text/plain": [
       "1761993"
      ]
     },
     "execution_count": 84,
     "metadata": {},
     "output_type": "execute_result"
    }
   ],
   "source": [
    "# Eliminamos las columnas \n",
    "df = df[df['Size'] != \"Varies with device\"]\n",
    "len(df)"
   ]
  },
  {
   "cell_type": "code",
   "execution_count": 85,
   "metadata": {},
   "outputs": [],
   "source": [
    "# Funcion para comvertir todo en megabytes\n",
    "def to_megabytes(size):\n",
    "    size = size.replace(',','') #remove commas \n",
    "    if \"M\"in size:\n",
    "        return float(size.replace('M',''))\n",
    "    elif \"k\" in size:\n",
    "        return float(size.replace('k','')) / 1024 # convert kb to MB format\n",
    "    elif 'G' in size:\n",
    "        return float(size.replace('G','')) * 1024 # convert Gb to MB format\n",
    "    else:\n",
    "        return np.nan"
   ]
  },
  {
   "cell_type": "code",
   "execution_count": 86,
   "metadata": {},
   "outputs": [
    {
     "name": "stdout",
     "output_type": "stream",
     "text": [
      "<class 'pandas.core.series.Series'>\n",
      "Index: 1761993 entries, 0 to 2312943\n",
      "Series name: Size\n",
      "Non-Null Count    Dtype  \n",
      "--------------    -----  \n",
      "1761993 non-null  float64\n",
      "dtypes: float64(1)\n",
      "memory usage: 26.9 MB\n"
     ]
    }
   ],
   "source": [
    "# apply function to the column\n",
    "df.Size = df.Size.apply(to_megabytes)\n",
    "df.Size.info()"
   ]
  },
  {
   "cell_type": "markdown",
   "metadata": {},
   "source": [
    "Hemos logrado convertir todos nuestros datos en formato numerico y en Mbytes para nuestro analisis."
   ]
  },
  {
   "cell_type": "markdown",
   "metadata": {},
   "source": [
    "### `ad supported`"
   ]
  },
  {
   "cell_type": "code",
   "execution_count": 87,
   "metadata": {},
   "outputs": [
    {
     "name": "stdout",
     "output_type": "stream",
     "text": [
      "\n",
      "Numero de Categorias : 2\n",
      "Conteo por Categorias: Ad Supported\n",
      "True     909159\n",
      "False    852834\n",
      "Name: count, dtype: int64\n",
      "\n"
     ]
    }
   ],
   "source": [
    "print(f'''\n",
    "Numero de Categorias : {len(df['Ad Supported'].value_counts())}\n",
    "Conteo por Categorias: {df['Ad Supported'].value_counts()}\n",
    "''')"
   ]
  },
  {
   "cell_type": "code",
   "execution_count": 88,
   "metadata": {},
   "outputs": [
    {
     "data": {
      "text/plain": [
       "<Axes: xlabel='Ad Supported', ylabel='count'>"
      ]
     },
     "execution_count": 88,
     "metadata": {},
     "output_type": "execute_result"
    },
    {
     "data": {
      "image/png": "[encoded data removed]",
      "text/plain": [
       "<Figure size 640x480 with 1 Axes>"
      ]
     },
     "metadata": {},
     "output_type": "display_data"
    }
   ],
   "source": [
    "sns.barplot(df['Ad Supported'].value_counts())"
   ]
  },
  {
   "cell_type": "markdown",
   "metadata": {},
   "source": [
    "Podemos obserbar que la mayoria de aplicaciones en nuestra play store estan apoyadas por anuncios. Sin embargo, en nuestro grafico podemos ver que la cantidad de apps soportadas por anuncions y aquellas no soportadas por anuncios es bastante pareja."
   ]
  },
  {
   "cell_type": "markdown",
   "metadata": {},
   "source": [
    "### `Currency`"
   ]
  },
  {
   "cell_type": "code",
   "execution_count": 89,
   "metadata": {},
   "outputs": [
    {
     "name": "stdout",
     "output_type": "stream",
     "text": [
      "\n",
      "Numero de Categorias : 13\n",
      "Conteo por Categorias: Currency\n",
      "USD    1760784\n",
      "XXX       1187\n",
      "EUR          5\n",
      "INR          5\n",
      "GBP          3\n",
      "CAD          2\n",
      "VND          1\n",
      "BRL          1\n",
      "KRW          1\n",
      "TRY          1\n",
      "SGD          1\n",
      "AUD          1\n",
      "ZAR          1\n",
      "Name: count, dtype: int64\n",
      "\n"
     ]
    }
   ],
   "source": [
    "print(f'''\n",
    "Numero de Categorias : {len(df.Currency.value_counts())}\n",
    "Conteo por Categorias: {df.Currency.value_counts()}\n",
    "''')"
   ]
  },
  {
   "cell_type": "markdown",
   "metadata": {},
   "source": [
    "La mayoria de nuestros datos usan dolares como moneda. Vamos a eliminar los datos sobrantes"
   ]
  },
  {
   "cell_type": "code",
   "execution_count": 90,
   "metadata": {},
   "outputs": [],
   "source": [
    "df = df[df['Currency'] == 'USD']\n",
    "df.drop('Currency',inplace=True,axis=1)"
   ]
  },
  {
   "cell_type": "markdown",
   "metadata": {},
   "source": [
    "### `Installs`"
   ]
  },
  {
   "cell_type": "code",
   "execution_count": 91,
   "metadata": {},
   "outputs": [
    {
     "name": "stdout",
     "output_type": "stream",
     "text": [
      "\n",
      "Numero de Categorias : 20\n",
      "Conteo por Categorias: Installs\n",
      "100+              361432\n",
      "1,000+            296420\n",
      "10+               266905\n",
      "10,000+           168166\n",
      "500+              146749\n",
      "50+               146093\n",
      "5,000+            101509\n",
      "5+                 67131\n",
      "1+                 59884\n",
      "100,000+           58305\n",
      "50,000+            43976\n",
      "1,000,000+         15009\n",
      "500,000+           13221\n",
      "0+                 10686\n",
      "5,000,000+          2646\n",
      "10,000,000+         2270\n",
      "50,000,000+          252\n",
      "100,000,000+         116\n",
      "500,000,000+           9\n",
      "1,000,000,000+         5\n",
      "Name: count, dtype: int64\n",
      "\n"
     ]
    }
   ],
   "source": [
    "print(f'''\n",
    "Numero de Categorias : {len(df.Installs.value_counts())}\n",
    "Conteo por Categorias: {df.Installs.value_counts()}\n",
    "''')"
   ]
  },
  {
   "cell_type": "markdown",
   "metadata": {},
   "source": [
    "Vemos que esta es una columna categorica que divide nuestras aplicaciones en secciones de acuerdo a la cantidad de instalaciones por aplicacion. No nos da una cantidad exacta de instalaciones por aplicacion. "
   ]
  },
  {
   "cell_type": "markdown",
   "metadata": {},
   "source": [
    "### `Minimum Android`"
   ]
  },
  {
   "cell_type": "code",
   "execution_count": 92,
   "metadata": {},
   "outputs": [
    {
     "name": "stdout",
     "output_type": "stream",
     "text": [
      "\n",
      "Numero de Categorias : 63\n",
      "Conteo por Categorias: Minimum Android\n",
      "4.1 and up      497174\n",
      "5.0 and up      332666\n",
      "4.4 and up      332206\n",
      "4.0.3 and up    136058\n",
      "4.2 and up       99259\n",
      "                 ...  \n",
      "4.4                  1\n",
      "4.2 - 7.1.1          1\n",
      "2.3 - 4.0.2          1\n",
      "2.2 - 8.0            1\n",
      "4.0 - 7.0            1\n",
      "Name: count, Length: 63, dtype: int64\n",
      "\n"
     ]
    }
   ],
   "source": [
    "print(f'''\n",
    "Numero de Categorias : {len(df['Minimum Android'].value_counts())}\n",
    "Conteo por Categorias: {df['Minimum Android'].value_counts()}\n",
    "''')"
   ]
  },
  {
   "cell_type": "markdown",
   "metadata": {},
   "source": [
    "Esta columna nos dice el tipo de android necesario para que esta aplicacion pueda ser instalada en un dispositivo. Tambien vamos a transformala a formato numerico para nuestro analisis."
   ]
  },
  {
   "cell_type": "code",
   "execution_count": 93,
   "metadata": {},
   "outputs": [
    {
     "data": {
      "text/plain": [
       "1759929"
      ]
     },
     "execution_count": 93,
     "metadata": {},
     "output_type": "execute_result"
    }
   ],
   "source": [
    "df = df[df['Minimum Android'] != 'Varies with device']\n",
    "len(df)"
   ]
  },
  {
   "cell_type": "markdown",
   "metadata": {},
   "source": [
    "En esta columna tambien tenemos los valores \"varies with device\" y vamos a eliminarlos"
   ]
  },
  {
   "cell_type": "code",
   "execution_count": 94,
   "metadata": {},
   "outputs": [],
   "source": [
    "def min_android(adroid):\n",
    "    return float(adroid[:3])"
   ]
  },
  {
   "cell_type": "code",
   "execution_count": 95,
   "metadata": {},
   "outputs": [
    {
     "name": "stdout",
     "output_type": "stream",
     "text": [
      "<class 'pandas.core.series.Series'>\n",
      "Index: 1759929 entries, 0 to 2312943\n",
      "Series name: Minimum Android\n",
      "Non-Null Count    Dtype  \n",
      "--------------    -----  \n",
      "1759929 non-null  float64\n",
      "dtypes: float64(1)\n",
      "memory usage: 26.9 MB\n"
     ]
    }
   ],
   "source": [
    "# apply the function\n",
    "\n",
    "df['Minimum Android'] = df['Minimum Android'].apply(min_android)\n",
    "df['Minimum Android'].info()"
   ]
  },
  {
   "cell_type": "markdown",
   "metadata": {},
   "source": [
    "### `Content Rating`"
   ]
  },
  {
   "cell_type": "code",
   "execution_count": 96,
   "metadata": {},
   "outputs": [
    {
     "name": "stdout",
     "output_type": "stream",
     "text": [
      "\n",
      "Numero de Categorias : 6\n",
      "Conteo por Categorias: Content Rating\n",
      "Everyone           1532435\n",
      "Teen                155095\n",
      "Mature 17+           49487\n",
      "Everyone 10+         22782\n",
      "Adults only 18+        107\n",
      "Unrated                 23\n",
      "Name: count, dtype: int64\n",
      "\n"
     ]
    }
   ],
   "source": [
    "print(f'''\n",
    "Numero de Categorias : {len(df['Content Rating'].value_counts())}\n",
    "Conteo por Categorias: {df['Content Rating'].value_counts()}\n",
    "''')"
   ]
  },
  {
   "cell_type": "markdown",
   "metadata": {},
   "source": [
    "### `Editors Choice` "
   ]
  },
  {
   "cell_type": "code",
   "execution_count": 97,
   "metadata": {},
   "outputs": [
    {
     "name": "stdout",
     "output_type": "stream",
     "text": [
      "\n",
      "Numero de Categorias : 2\n",
      "Conteo por Categorias: Editors Choice\n",
      "False    1759600\n",
      "True         329\n",
      "Name: count, dtype: int64\n",
      "\n"
     ]
    }
   ],
   "source": [
    "print(f'''\n",
    "Numero de Categorias : {len(df['Editors Choice'].value_counts())}\n",
    "Conteo por Categorias: {df['Editors Choice'].value_counts()}\n",
    "''')"
   ]
  },
  {
   "cell_type": "code",
   "execution_count": 98,
   "metadata": {},
   "outputs": [
    {
     "data": {
      "text/plain": [
       "<Axes: xlabel='Category', ylabel='Minimum Installs'>"
      ]
     },
     "execution_count": 98,
     "metadata": {},
     "output_type": "execute_result"
    },
    {
     "data": {
      "image/png": "[encoded data removed]",
      "text/plain": [
       "<Figure size 640x480 with 1 Axes>"
      ]
     },
     "metadata": {},
     "output_type": "display_data"
    }
   ],
   "source": [
    "sns.barplot(df.groupby('Category')['Minimum Installs'].mean().head())"
   ]
  },
  {
   "cell_type": "markdown",
   "metadata": {},
   "source": [
    "## Time Series Analysis"
   ]
  },
  {
   "cell_type": "code",
   "execution_count": 99,
   "metadata": {},
   "outputs": [
    {
     "data": {
      "text/plain": [
       "Released\n",
       "2017-01-01    291\n",
       "2017-01-02    438\n",
       "2017-01-03    585\n",
       "2017-01-04    541\n",
       "2017-01-05    591\n",
       "             ... \n",
       "2021-06-12     42\n",
       "2021-06-13     24\n",
       "2021-06-14     42\n",
       "2021-06-15     28\n",
       "2021-06-16      1\n",
       "Name: App Name, Length: 1628, dtype: int64"
      ]
     },
     "execution_count": 99,
     "metadata": {},
     "output_type": "execute_result"
    }
   ],
   "source": [
    "time_series = df.groupby('Released')['App Name'].count()\n",
    "time_series.index = pd.to_datetime(time_series.index)\n",
    "time_series"
   ]
  },
  {
   "cell_type": "code",
   "execution_count": 100,
   "metadata": {},
   "outputs": [
    {
     "name": "stderr",
     "output_type": "stream",
     "text": [
      "C:\\Users\\RYZEN\\AppData\\Local\\Temp\\ipykernel_8060\\2236511635.py:1: FutureWarning: 'm' is deprecated and will be removed in a future version, please use 'ME' instead.\n",
      "  decomposed = seasonal_decompose(time_series.resample('m').sum())\n"
     ]
    },
    {
     "data": {
      "text/plain": [
       "<Axes: xlabel='Released'>"
      ]
     },
     "execution_count": 100,
     "metadata": {},
     "output_type": "execute_result"
    },
    {
     "data": {
      "image/png": "[encoded data removed]",
      "text/plain": [
       "<Figure size 640x480 with 1 Axes>"
      ]
     },
     "metadata": {},
     "output_type": "display_data"
    }
   ],
   "source": [
    "decomposed = seasonal_decompose(time_series.resample('m').sum())\n",
    "decomposed.trend.plot(ax=plt.gca())\n"
   ]
  },
  {
   "cell_type": "code",
   "execution_count": 101,
   "metadata": {},
   "outputs": [
    {
     "name": "stderr",
     "output_type": "stream",
     "text": [
      "C:\\Users\\RYZEN\\AppData\\Local\\Temp\\ipykernel_8060\\3034876087.py:3: FutureWarning: 'm' is deprecated and will be removed in a future version, please use 'ME' instead.\n",
      "  decomposed = seasonal_decompose(time_series.resample('m').sum())\n"
     ]
    },
    {
     "data": {
      "text/plain": [
       "<Axes: xlabel='Released'>"
      ]
     },
     "execution_count": 101,
     "metadata": {},
     "output_type": "execute_result"
    },
    {
     "data": {
      "image/png": "[encoded data removed]",
      "text/plain": [
       "<Figure size 640x480 with 1 Axes>"
      ]
     },
     "metadata": {},
     "output_type": "display_data"
    }
   ],
   "source": [
    "time_series = df.groupby('Released')['Minimum Installs'].count()\n",
    "time_series.index = pd.to_datetime(time_series.index)\n",
    "decomposed = seasonal_decompose(time_series.resample('m').sum())\n",
    "decomposed.trend.plot(ax=plt.gca())"
   ]
  },
  {
   "cell_type": "markdown",
   "metadata": {},
   "source": [
    "## ML Models"
   ]
  },
  {
   "cell_type": "code",
   "execution_count": 102,
   "metadata": {},
   "outputs": [
    {
     "name": "stdout",
     "output_type": "stream",
     "text": [
      "<class 'pandas.core.frame.DataFrame'>\n",
      "Index: 1759929 entries, 0 to 2312943\n",
      "Data columns (total 20 columns):\n",
      " #   Column             Dtype         \n",
      "---  ------             -----         \n",
      " 0   App Name           object        \n",
      " 1   Category           object        \n",
      " 2   Rating             float64       \n",
      " 3   Rating Count       float64       \n",
      " 4   Installs           object        \n",
      " 5   Minimum Installs   float64       \n",
      " 6   Free               bool          \n",
      " 7   Price              float64       \n",
      " 8   Size               float64       \n",
      " 9   Minimum Android    float64       \n",
      " 10  Developer Id       object        \n",
      " 11  Developer Website  bool          \n",
      " 12  Developer Email    bool          \n",
      " 13  Released           datetime64[ns]\n",
      " 14  Last Updated       datetime64[ns]\n",
      " 15  Content Rating     object        \n",
      " 16  Privacy Policy     bool          \n",
      " 17  Ad Supported       bool          \n",
      " 18  In App Purchases   bool          \n",
      " 19  Editors Choice     bool          \n",
      "dtypes: bool(7), datetime64[ns](2), float64(6), object(5)\n",
      "memory usage: 199.7+ MB\n"
     ]
    }
   ],
   "source": [
    "df.info()"
   ]
  },
  {
   "cell_type": "code",
   "execution_count": 103,
   "metadata": {},
   "outputs": [],
   "source": [
    "model_df_1 = df[['Rating','Rating Count', 'Minimum Installs', 'Free','Price','Size','Minimum Android',\n",
    "            'Developer Email','Privacy Policy','Ad Supported']].copy()\n",
    "\n",
    "#model_df_2 = df[['Category','Rating','Rating Count', 'Minimum Installs', 'Free','Price','Size','Minimum Android',\n",
    "#            'Developer Email','Privacy Policy','Ad Supported']].copy()"
   ]
  },
  {
   "cell_type": "code",
   "execution_count": 104,
   "metadata": {},
   "outputs": [
    {
     "data": {
      "text/html": [
       "<div>\n",
       "<style scoped>\n",
       "    .dataframe tbody tr th:only-of-type {\n",
       "        vertical-align: middle;\n",
       "    }\n",
       "\n",
       "    .dataframe tbody tr th {\n",
       "        vertical-align: top;\n",
       "    }\n",
       "\n",
       "    .dataframe thead th {\n",
       "        text-align: right;\n",
       "    }\n",
       "</style>\n",
       "<table border=\"1\" class=\"dataframe\">\n",
       "  <thead>\n",
       "    <tr style=\"text-align: right;\">\n",
       "      <th></th>\n",
       "      <th>Rating</th>\n",
       "      <th>Rating Count</th>\n",
       "      <th>Minimum Installs</th>\n",
       "      <th>Free</th>\n",
       "      <th>Price</th>\n",
       "      <th>Size</th>\n",
       "      <th>Minimum Android</th>\n",
       "      <th>Developer Email</th>\n",
       "      <th>Privacy Policy</th>\n",
       "      <th>Ad Supported</th>\n",
       "    </tr>\n",
       "  </thead>\n",
       "  <tbody>\n",
       "    <tr>\n",
       "      <th>0</th>\n",
       "      <td>0.0</td>\n",
       "      <td>0.0</td>\n",
       "      <td>10.0</td>\n",
       "      <td>1</td>\n",
       "      <td>0.0</td>\n",
       "      <td>10.0</td>\n",
       "      <td>7.1</td>\n",
       "      <td>1</td>\n",
       "      <td>1</td>\n",
       "      <td>0</td>\n",
       "    </tr>\n",
       "    <tr>\n",
       "      <th>1</th>\n",
       "      <td>4.4</td>\n",
       "      <td>64.0</td>\n",
       "      <td>5000.0</td>\n",
       "      <td>1</td>\n",
       "      <td>0.0</td>\n",
       "      <td>2.9</td>\n",
       "      <td>5.0</td>\n",
       "      <td>1</td>\n",
       "      <td>1</td>\n",
       "      <td>1</td>\n",
       "    </tr>\n",
       "    <tr>\n",
       "      <th>2</th>\n",
       "      <td>0.0</td>\n",
       "      <td>0.0</td>\n",
       "      <td>50.0</td>\n",
       "      <td>1</td>\n",
       "      <td>0.0</td>\n",
       "      <td>3.7</td>\n",
       "      <td>4.0</td>\n",
       "      <td>1</td>\n",
       "      <td>1</td>\n",
       "      <td>0</td>\n",
       "    </tr>\n",
       "    <tr>\n",
       "      <th>3</th>\n",
       "      <td>5.0</td>\n",
       "      <td>5.0</td>\n",
       "      <td>10.0</td>\n",
       "      <td>1</td>\n",
       "      <td>0.0</td>\n",
       "      <td>1.8</td>\n",
       "      <td>4.0</td>\n",
       "      <td>1</td>\n",
       "      <td>0</td>\n",
       "      <td>1</td>\n",
       "    </tr>\n",
       "    <tr>\n",
       "      <th>4</th>\n",
       "      <td>0.0</td>\n",
       "      <td>0.0</td>\n",
       "      <td>100.0</td>\n",
       "      <td>1</td>\n",
       "      <td>0.0</td>\n",
       "      <td>6.2</td>\n",
       "      <td>4.1</td>\n",
       "      <td>1</td>\n",
       "      <td>1</td>\n",
       "      <td>0</td>\n",
       "    </tr>\n",
       "  </tbody>\n",
       "</table>\n",
       "</div>"
      ],
      "text/plain": [
       "   Rating  Rating Count  Minimum Installs  Free  Price  Size  Minimum Android  \\\n",
       "0     0.0           0.0              10.0     1    0.0  10.0              7.1   \n",
       "1     4.4          64.0            5000.0     1    0.0   2.9              5.0   \n",
       "2     0.0           0.0              50.0     1    0.0   3.7              4.0   \n",
       "3     5.0           5.0              10.0     1    0.0   1.8              4.0   \n",
       "4     0.0           0.0             100.0     1    0.0   6.2              4.1   \n",
       "\n",
       "   Developer Email  Privacy Policy  Ad Supported  \n",
       "0                1               1             0  \n",
       "1                1               1             1  \n",
       "2                1               1             0  \n",
       "3                1               0             1  \n",
       "4                1               1             0  "
      ]
     },
     "execution_count": 104,
     "metadata": {},
     "output_type": "execute_result"
    }
   ],
   "source": [
    "model_df_1[['Free','Developer Email','Privacy Policy','Ad Supported']] = model_df_1[['Free','Developer Email','Privacy Policy','Ad Supported']].astype(int)\n",
    "model_df_1.head()"
   ]
  },
  {
   "cell_type": "code",
   "execution_count": 105,
   "metadata": {},
   "outputs": [
    {
     "data": {
      "text/plain": [
       "1759929"
      ]
     },
     "execution_count": 105,
     "metadata": {},
     "output_type": "execute_result"
    }
   ],
   "source": [
    "len(df)"
   ]
  },
  {
   "cell_type": "code",
   "execution_count": 106,
   "metadata": {},
   "outputs": [],
   "source": [
    "def train_val_test_split(df,rstate=42,shuffle=True,stratify=None):\n",
    "    strat = df[stratify] if stratify else None\n",
    "    train_set, test_set = train_test_split(df,test_size=0.5,random_state=rstate,shuffle=shuffle,stratify=strat)\n",
    "    strat = df[stratify] if stratify else None\n",
    "    train_set, test_set = train_test_split(train_set,test_size=0.4,random_state=rstate,shuffle=shuffle,stratify=strat)\n",
    "    strat = test_set[stratify] if stratify else None\n",
    "    val_set,test_set = train_test_split(test_set,test_size=0.5,random_state=rstate,shuffle=shuffle,stratify= strat)\n",
    "    return (train_set,val_set,test_set)"
   ]
  },
  {
   "cell_type": "code",
   "execution_count": 108,
   "metadata": {},
   "outputs": [],
   "source": [
    "def remove_labels(df,label_name):\n",
    "    x = df.drop(label_name,axis=1)\n",
    "    y = df[label_name].copy()\n",
    "    return (x,y)"
   ]
  },
  {
   "cell_type": "code",
   "execution_count": 109,
   "metadata": {},
   "outputs": [],
   "source": [
    "train_set1,test_set1,val_set1 = train_val_test_split(model_df_1)\n",
    "#train_set2,test_set2,val_set2 = train_val_test_split(model_df_2)"
   ]
  },
  {
   "cell_type": "code",
   "execution_count": 111,
   "metadata": {},
   "outputs": [
    {
     "data": {
      "text/plain": [
       "527978"
      ]
     },
     "execution_count": 111,
     "metadata": {},
     "output_type": "execute_result"
    }
   ],
   "source": [
    "len(train_set1)"
   ]
  },
  {
   "cell_type": "code",
   "execution_count": 112,
   "metadata": {},
   "outputs": [],
   "source": [
    "x_train1,y_train1 = remove_labels(train_set1,['Rating','Minimum Installs'])\n",
    "x_test1,y_test1 = remove_labels(test_set1,['Rating','Minimum Installs'])\n",
    "x_val1,y_val1 = remove_labels(val_set1,['Rating','Minimum Installs'])\n",
    "\n",
    "#x_train2,y_train2 = remove_labels(train_set2,['Rating','Minimum Installs'])\n",
    "#x_test2,y_test2 = remove_labels(test_set2,['Rating','Minimum Installs'])\n",
    "#x_val2,y_val2 = remove_labels(val_set2,['Rating','Minimum Installs'])"
   ]
  },
  {
   "cell_type": "markdown",
   "metadata": {},
   "source": [
    "### Linear Regression"
   ]
  },
  {
   "cell_type": "code",
   "execution_count": 113,
   "metadata": {},
   "outputs": [],
   "source": [
    "scaler = RobustScaler()\n",
    "scaled_features_train = scaler.fit_transform(x_train1)\n",
    "scaled_x_train1 = pd.DataFrame(data=scaled_features_train,columns=x_train1.columns)\n",
    "\n",
    "scaled_features_test = scaler.fit_transform(x_test1)\n",
    "scaled_x_test1 = pd.DataFrame(data=scaled_features_test,columns=x_test1.columns)"
   ]
  },
  {
   "cell_type": "code",
   "execution_count": 114,
   "metadata": {},
   "outputs": [],
   "source": [
    "lr_model = LinearRegression()\n",
    "lr_model = MultiOutputRegressor(lr_model)\n",
    "lr_model.fit(scaled_x_train1,y_train1)\n",
    "lr_predictions = lr_model.predict(scaled_x_test1)"
   ]
  },
  {
   "cell_type": "code",
   "execution_count": 116,
   "metadata": {},
   "outputs": [
    {
     "name": "stdout",
     "output_type": "stream",
     "text": [
      "2.0804132231167927\n",
      "2680199.565729012\n"
     ]
    }
   ],
   "source": [
    "rmse_rating = root_mean_squared_error(y_test1['Rating'],lr_predictions[:,0])\n",
    "rmse_installs = root_mean_squared_error(y_test1['Minimum Installs'],lr_predictions[:,1])\n",
    "print(rmse_rating)\n",
    "print(rmse_installs)"
   ]
  },
  {
   "cell_type": "code",
   "execution_count": 117,
   "metadata": {},
   "outputs": [],
   "source": [
    "#saving model\n",
    "#joblib.dump(lr_model,'lr_model_playstore.pkl')"
   ]
  },
  {
   "cell_type": "markdown",
   "metadata": {},
   "source": [
    "### XGBoost"
   ]
  },
  {
   "cell_type": "code",
   "execution_count": 118,
   "metadata": {},
   "outputs": [
    {
     "data": {
      "text/plain": [
       "['xgb_model_playstore.pkl']"
      ]
     },
     "execution_count": 118,
     "metadata": {},
     "output_type": "execute_result"
    }
   ],
   "source": [
    "xgb_model = XGBRegressor()\n",
    "\n",
    "param_grid = {\n",
    "    'estimator__n_estimators':[50,100,200],\n",
    "    'estimator__learning_rate':[0.01,0.1,0.2],\n",
    "    'estimator__max_depth':[5,15,20,50]\n",
    "}\n",
    "\n",
    "xgb_model = MultiOutputRegressor(xgb_model)\n",
    "\n",
    "grid_xgb = GridSearchCV(estimator=xgb_model,param_grid=param_grid,scoring='neg_mean_squared_error',cv=3)\n",
    "grid_xgb.fit(x_train1,y_train1)\n",
    "xgb_best_model = grid_xgb.best_estimator_\n",
    "\n",
    "#saving best model\n",
    "joblib.dump(xgb_best_model,'xgb_model_playstore.pkl')"
   ]
  },
  {
   "cell_type": "code",
   "execution_count": 119,
   "metadata": {},
   "outputs": [
    {
     "name": "stdout",
     "output_type": "stream",
     "text": [
      "0.8950509435233314\n",
      "2816505.9948683335\n"
     ]
    }
   ],
   "source": [
    "xgb_predictions = xgb_best_model.predict(x_test1)\n",
    "rmse_rating = root_mean_squared_error(y_test1['Rating'],xgb_predictions[:,0])\n",
    "rmse_installs = root_mean_squared_error(y_test1['Minimum Installs'],xgb_predictions[:,1])\n",
    "print(rmse_rating)\n",
    "print(rmse_installs)"
   ]
  },
  {
   "cell_type": "markdown",
   "metadata": {},
   "source": [
    "### Suppor Vector Machine "
   ]
  },
  {
   "cell_type": "code",
   "execution_count": 120,
   "metadata": {},
   "outputs": [],
   "source": [
    "svr_model = SVR()\n",
    "\n",
    "param_grid = {\n",
    "    'estimator__C': [0.1,1,10],\n",
    "    'estimator__epsilon':[0.01,0.1,0.5],\n",
    "    'estimator__kernel':['linear','rbf']\n",
    "}\n",
    "\n",
    "svr_model = MultiOutputRegressor(svr_model)\n",
    "\n",
    "grid_svr = GridSearchCV(estimator=svr_model,param_grid=param_grid,scoring='neg_mean_squared_error',cv=3)\n",
    "grid_svr.fit(scaled_x_train1,y_train1)  \n",
    "svr_best_model = grid_svr.best_estimator_\n",
    "\n",
    "#saving best model\n",
    "joblib.dump(svr_best_model,'svr_model_playstore.pkl')"
   ]
  },
  {
   "cell_type": "code",
   "execution_count": null,
   "metadata": {},
   "outputs": [],
   "source": [
    "svr_predictions = svr_best_model.predict(scaled_x_test1)\n",
    "rmse_rating = root_mean_squared_error(y_test1['Rating'],svr_predictions[:,0])\n",
    "rmse_installs = root_mean_squared_error(y_test1['Minimum Installs'],svr_predictions[:,1])\n",
    "print(rmse_rating)\n",
    "print(rmse_installs)"
   ]
  },
  {
   "cell_type": "markdown",
   "metadata": {},
   "source": [
    "### Decision Tree Regressor"
   ]
  },
  {
   "cell_type": "code",
   "execution_count": null,
   "metadata": {},
   "outputs": [],
   "source": [
    "seed = 123456\n",
    "rmse_scorer = make_scorer(root_mean_squared_error, greater_is_better=False)\n",
    "\n",
    "dt_model = DecisionTreeRegressor(random_state=seed)\n",
    "param_grid = {\n",
    "    'criterion':['squared_error','absolute_error'],\n",
    "    'max_depth':[10,30,100], \n",
    "    'min_samples_split':[5,10,20]\n",
    "}\n",
    "\n",
    "grid_tree = GridSearchCV(estimator=dt_model,param_grid=param_grid,scoring=rmse_scorer,cv=3)\n",
    "grid_tree.fit(x_train1,y_train1)\n",
    "tree_best_model = grid_tree.best_estimator_\n",
    "\n",
    "#saving best model\n",
    "joblib.dump(tree_best_model,'tree_model_playstore.pkl')"
   ]
  },
  {
   "cell_type": "code",
   "execution_count": null,
   "metadata": {},
   "outputs": [],
   "source": [
    "print(grid_tree.best_params_)\n",
    "print(grid_tree.best_score_)"
   ]
  },
  {
   "cell_type": "code",
   "execution_count": null,
   "metadata": {},
   "outputs": [],
   "source": []
  },
  {
   "cell_type": "code",
   "execution_count": null,
   "metadata": {},
   "outputs": [],
   "source": []
  }
 ],
 "metadata": {
  "kernelspec": {
   "display_name": "playstorevenv",
   "language": "python",
   "name": "python3"
  },
  "language_info": {
   "codemirror_mode": {
    "name": "ipython",
    "version": 3
   },
   "file_extension": ".py",
   "mimetype": "text/x-python",
   "name": "python",
   "nbconvert_exporter": "python",
   "pygments_lexer": "ipython3",
   "version": "3.11.9"
  }
 },
 "nbformat": 4,
 "nbformat_minor": 2
}
